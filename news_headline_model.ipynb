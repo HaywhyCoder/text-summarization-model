{
  "metadata": {
    "kernelspec": {
      "name": "python3",
      "display_name": "Python 3",
      "language": "python"
    },
    "language_info": {
      "name": "python",
      "version": "3.11.11",
      "mimetype": "text/x-python",
      "codemirror_mode": {
        "name": "ipython",
        "version": 3
      },
      "pygments_lexer": "ipython3",
      "nbconvert_exporter": "python",
      "file_extension": ".py"
    },
    "accelerator": "GPU",
    "colab": {
      "gpuType": "T4",
      "provenance": [],
      "name": "news_headline_model",
      "include_colab_link": true
    },
    "kaggle": {
      "accelerator": "none",
      "dataSources": [
        {
          "sourceId": 791838,
          "sourceType": "datasetVersion",
          "datasetId": 1895
        }
      ],
      "dockerImageVersionId": 31012,
      "isInternetEnabled": true,
      "language": "python",
      "sourceType": "notebook",
      "isGpuEnabled": false
    }
  },
  "nbformat_minor": 0,
  "nbformat": 4,
  "cells": [
    {
      "cell_type": "markdown",
      "metadata": {
        "id": "view-in-github",
        "colab_type": "text"
      },
      "source": [
        "<a href=\"https://colab.research.google.com/github/HaywhyCoder/text-summarization-model/blob/main/news_headline_model.ipynb\" target=\"_parent\"><img src=\"https://colab.research.google.com/assets/colab-badge.svg\" alt=\"Open In Colab\"/></a>"
      ]
    },
    {
      "cell_type": "markdown",
      "source": [
        "### **News Headline Model**"
      ],
      "metadata": {
        "id": "obFd4M6gtavT"
      }
    },
    {
      "cell_type": "markdown",
      "source": [
        "#### Import Libraries"
      ],
      "metadata": {
        "id": "eQew52XstvBg"
      }
    },
    {
      "cell_type": "code",
      "source": [
        "! pip install datasets sacrebleu evaluate bert-score"
      ],
      "metadata": {
        "id": "-OLQpo3At4q9",
        "trusted": true,
        "execution": {
          "iopub.status.busy": "2025-05-10T18:50:38.300659Z",
          "iopub.execute_input": "2025-05-10T18:50:38.300891Z",
          "iopub.status.idle": "2025-05-10T18:52:07.297871Z",
          "shell.execute_reply.started": "2025-05-10T18:50:38.300873Z",
          "shell.execute_reply": "2025-05-10T18:52:07.296971Z"
        },
        "scrolled": true
      },
      "outputs": [],
      "execution_count": null
    },
    {
      "cell_type": "code",
      "source": [
        "import pandas as pd\n",
        "from sklearn.model_selection import train_test_split\n",
        "from sklearn.metrics.pairwise import cosine_similarity\n",
        "\n",
        "from datasets import Dataset, DatasetDict\n",
        "from evaluate import load\n",
        "from transformers import GPT2Tokenizer, GPT2LMHeadModel, Trainer, TrainingArguments, DataCollatorForLanguageModeling, pipeline\n",
        "from sacrebleu import corpus_bleu\n",
        "import torch"
      ],
      "metadata": {
        "id": "YXpB_3uTrK1x",
        "trusted": true,
        "execution": {
          "iopub.status.busy": "2025-05-10T18:53:20.644411Z",
          "iopub.execute_input": "2025-05-10T18:53:20.645854Z",
          "iopub.status.idle": "2025-05-10T18:53:20.678135Z",
          "shell.execute_reply.started": "2025-05-10T18:53:20.645815Z",
          "shell.execute_reply": "2025-05-10T18:53:20.677571Z"
        }
      },
      "outputs": [],
      "execution_count": null
    },
    {
      "cell_type": "code",
      "source": [
        "metric = load('bertscore')"
      ],
      "metadata": {
        "id": "Qur_hIJng0QG",
        "trusted": true,
        "execution": {
          "iopub.status.busy": "2025-05-10T18:53:27.300164Z",
          "iopub.execute_input": "2025-05-10T18:53:27.300447Z",
          "iopub.status.idle": "2025-05-10T18:53:28.157804Z",
          "shell.execute_reply.started": "2025-05-10T18:53:27.300423Z",
          "shell.execute_reply": "2025-05-10T18:53:28.157051Z"
        }
      },
      "outputs": [],
      "execution_count": null
    },
    {
      "cell_type": "markdown",
      "source": [
        "#### Load the Dataset"
      ],
      "metadata": {
        "id": "7sqrcVQScrLs"
      }
    },
    {
      "cell_type": "code",
      "source": [
        "data = pd.read_csv(\"/kaggle/input/news-summary/news_summary.csv\", encoding='latin-1')\n",
        "data.head()"
      ],
      "metadata": {
        "id": "MobN2fZnvkml",
        "trusted": true,
        "execution": {
          "iopub.status.busy": "2025-05-10T18:53:39.395566Z",
          "iopub.execute_input": "2025-05-10T18:53:39.396086Z",
          "iopub.status.idle": "2025-05-10T18:53:39.767604Z",
          "shell.execute_reply.started": "2025-05-10T18:53:39.396044Z",
          "shell.execute_reply": "2025-05-10T18:53:39.766992Z"
        }
      },
      "outputs": [],
      "execution_count": null
    },
    {
      "cell_type": "code",
      "source": [
        "data = data[['text', 'headlines']]"
      ],
      "metadata": {
        "id": "T-bduKiJvjp4",
        "trusted": true,
        "execution": {
          "iopub.status.busy": "2025-05-10T18:53:39.837453Z",
          "iopub.execute_input": "2025-05-10T18:53:39.837648Z",
          "iopub.status.idle": "2025-05-10T18:53:39.867007Z",
          "shell.execute_reply.started": "2025-05-10T18:53:39.837627Z",
          "shell.execute_reply": "2025-05-10T18:53:39.866124Z"
        }
      },
      "outputs": [],
      "execution_count": null
    },
    {
      "cell_type": "code",
      "source": [
        "data.head()"
      ],
      "metadata": {
        "id": "mUeGuGEsyRdI",
        "trusted": true,
        "execution": {
          "iopub.status.busy": "2025-05-10T18:53:39.867836Z",
          "iopub.execute_input": "2025-05-10T18:53:39.868253Z",
          "iopub.status.idle": "2025-05-10T18:53:39.895202Z",
          "shell.execute_reply.started": "2025-05-10T18:53:39.868232Z",
          "shell.execute_reply": "2025-05-10T18:53:39.894435Z"
        }
      },
      "outputs": [],
      "execution_count": null
    },
    {
      "cell_type": "code",
      "source": [
        "data['text'] = data['text'].map(lambda x: x + \"\\nTL;DR:\")\n",
        "data['text'][5]"
      ],
      "metadata": {
        "trusted": true,
        "execution": {
          "iopub.status.busy": "2025-05-10T18:53:39.895998Z",
          "iopub.execute_input": "2025-05-10T18:53:39.896354Z",
          "iopub.status.idle": "2025-05-10T18:53:39.921509Z",
          "shell.execute_reply.started": "2025-05-10T18:53:39.896327Z",
          "shell.execute_reply": "2025-05-10T18:53:39.920806Z"
        },
        "id": "lES-eHIIcrLx"
      },
      "outputs": [],
      "execution_count": null
    },
    {
      "cell_type": "markdown",
      "source": [
        "### Prepare Dataset"
      ],
      "metadata": {
        "id": "wva3ZYh6zLYL"
      }
    },
    {
      "cell_type": "code",
      "source": [
        "sample_data = data.sample(n=300, random_state=16, ignore_index=True)\n",
        "train, test = train_test_split(sample_data, test_size=.2, random_state=42)\n",
        "train, eval = train_test_split(train, test_size=.2, random_state=42)\n",
        "\n",
        "datasets = DatasetDict({\n",
        "    'train': Dataset.from_pandas(train, preserve_index=False),\n",
        "    'eval': Dataset.from_pandas(eval, preserve_index=False),\n",
        "    'test': Dataset.from_pandas(test, preserve_index=False)\n",
        "})\n",
        "datasets"
      ],
      "metadata": {
        "id": "h2lscc3iyXDz",
        "trusted": true,
        "execution": {
          "iopub.status.busy": "2025-05-10T18:53:39.922239Z",
          "iopub.execute_input": "2025-05-10T18:53:39.922433Z",
          "iopub.status.idle": "2025-05-10T18:53:39.961804Z",
          "shell.execute_reply.started": "2025-05-10T18:53:39.922418Z",
          "shell.execute_reply": "2025-05-10T18:53:39.961165Z"
        }
      },
      "outputs": [],
      "execution_count": null
    },
    {
      "cell_type": "code",
      "source": [
        "tokenizer = GPT2Tokenizer.from_pretrained(\"gpt2\")\n",
        "model = GPT2LMHeadModel.from_pretrained(\"gpt2\")"
      ],
      "metadata": {
        "id": "VvxpwuhzzaLt",
        "trusted": true,
        "execution": {
          "iopub.status.busy": "2025-05-10T18:53:39.989046Z",
          "iopub.execute_input": "2025-05-10T18:53:39.989337Z",
          "iopub.status.idle": "2025-05-10T18:53:44.213143Z",
          "shell.execute_reply.started": "2025-05-10T18:53:39.989314Z",
          "shell.execute_reply": "2025-05-10T18:53:44.21235Z"
        }
      },
      "outputs": [],
      "execution_count": null
    },
    {
      "cell_type": "code",
      "source": [
        "tokenizer.pad_token = tokenizer.eos_token\n",
        "model.config.pad_token_id = tokenizer.pad_token_id"
      ],
      "metadata": {
        "id": "--dPliTa55rW",
        "trusted": true,
        "execution": {
          "iopub.status.busy": "2025-05-10T18:53:44.214346Z",
          "iopub.execute_input": "2025-05-10T18:53:44.214601Z",
          "iopub.status.idle": "2025-05-10T18:53:44.218422Z",
          "shell.execute_reply.started": "2025-05-10T18:53:44.214577Z",
          "shell.execute_reply": "2025-05-10T18:53:44.217816Z"
        }
      },
      "outputs": [],
      "execution_count": null
    },
    {
      "cell_type": "code",
      "source": [
        "def preprocess_function(examples):\n",
        "  inputs = [text for text in examples['text']]\n",
        "  targets = [summary for summary in examples['headlines']]\n",
        "\n",
        "  model_inputs = tokenizer(inputs, max_length=128, truncation=True, padding='max_length', return_tensors='pt')\n",
        "  labels = tokenizer(text_target=targets, max_length=32, truncation=True, padding='max_length', return_tensors='pt')\n",
        "\n",
        "  model_inputs['labels'] = labels['input_ids']\n",
        "  return model_inputs\n",
        "\n",
        "tokenized_datasets = datasets.map(preprocess_function, batched=True, remove_columns=datasets['train'].column_names)"
      ],
      "metadata": {
        "id": "6O8_j90j6OJN",
        "trusted": true,
        "execution": {
          "iopub.status.busy": "2025-05-10T18:53:44.219172Z",
          "iopub.execute_input": "2025-05-10T18:53:44.219394Z",
          "iopub.status.idle": "2025-05-10T18:53:46.865907Z",
          "shell.execute_reply.started": "2025-05-10T18:53:44.219376Z",
          "shell.execute_reply": "2025-05-10T18:53:46.865206Z"
        }
      },
      "outputs": [],
      "execution_count": null
    },
    {
      "cell_type": "code",
      "source": [
        "data_collator = DataCollatorForLanguageModeling(tokenizer=tokenizer, mlm=False)"
      ],
      "metadata": {
        "id": "GHFkvXcZ9wGl",
        "trusted": true,
        "execution": {
          "iopub.status.busy": "2025-05-10T18:53:46.952143Z",
          "iopub.execute_input": "2025-05-10T18:53:46.952356Z",
          "iopub.status.idle": "2025-05-10T18:53:46.968659Z",
          "shell.execute_reply.started": "2025-05-10T18:53:46.952334Z",
          "shell.execute_reply": "2025-05-10T18:53:46.968165Z"
        }
      },
      "outputs": [],
      "execution_count": null
    },
    {
      "cell_type": "code",
      "source": [
        "training_args = TrainingArguments(\n",
        "    output_dir='./results',\n",
        "    eval_strategy='epoch',\n",
        "    learning_rate=5e-5,\n",
        "    per_device_train_batch_size=2,\n",
        "    per_device_eval_batch_size=2,\n",
        "    num_train_epochs=10,\n",
        "    weight_decay=.01,\n",
        "    save_total_limit=1,\n",
        "    logging_dir='./logs',\n",
        "    logging_steps=10,\n",
        "    report_to='none'\n",
        ")"
      ],
      "metadata": {
        "id": "mmzYNOcbAMdu",
        "trusted": true,
        "execution": {
          "iopub.status.busy": "2025-05-10T18:53:46.969406Z",
          "iopub.execute_input": "2025-05-10T18:53:46.969619Z",
          "iopub.status.idle": "2025-05-10T18:53:47.015522Z",
          "shell.execute_reply.started": "2025-05-10T18:53:46.969598Z",
          "shell.execute_reply": "2025-05-10T18:53:47.015013Z"
        }
      },
      "outputs": [],
      "execution_count": null
    },
    {
      "cell_type": "code",
      "source": [
        "trainer = Trainer(\n",
        "    model=model,\n",
        "    args=training_args,\n",
        "    train_dataset=tokenized_datasets['train'],\n",
        "    eval_dataset=tokenized_datasets['eval'],\n",
        "    tokenizer=tokenizer,\n",
        "    data_collator=data_collator,\n",
        ")\n",
        "\n",
        "trainer.train()"
      ],
      "metadata": {
        "id": "dBcOl9lVAN0C",
        "trusted": true,
        "execution": {
          "iopub.status.busy": "2025-05-10T18:53:47.016256Z",
          "iopub.execute_input": "2025-05-10T18:53:47.016494Z",
          "iopub.status.idle": "2025-05-10T18:55:02.013215Z",
          "shell.execute_reply.started": "2025-05-10T18:53:47.016473Z",
          "shell.execute_reply": "2025-05-10T18:55:02.012633Z"
        }
      },
      "outputs": [],
      "execution_count": null
    },
    {
      "cell_type": "code",
      "source": [
        "sample = datasets['test'][10]\n",
        "\n",
        "# Detect the device (GPU or CPU)\n",
        "device = torch.device(\"cuda\" if torch.cuda.is_available() else \"cpu\")\n",
        "\n",
        "# Move the model to the detected device\n",
        "model = model.to(device)\n",
        "\n",
        "# Tokenize the input text and move tensors to the same device\n",
        "inputs = tokenizer(\n",
        "    sample['text'],\n",
        "    return_tensors=\"pt\",\n",
        "    max_length=128,\n",
        "    truncation=True,\n",
        "    padding=True  # Ensures padding is applied\n",
        ").to(device)\n",
        "\n",
        "labels = tokenizer(sample['headlines'], max_length=32, truncation=True, padding=True).to(device)\n",
        "\n",
        "\n",
        "input_ids = inputs['input_ids']\n",
        "att_mask = inputs['attention_mask']\n",
        "\n",
        "model.eval()\n",
        "outputs = model.generate(\n",
        "    input_ids=input_ids,\n",
        "    attention_mask=att_mask,\n",
        "    max_new_tokens= 15,\n",
        "    min_length=5,  # Minimum length of the summary\n",
        "    length_penalty=-3.0,  # Encourage shorter summaries\n",
        "    num_beams=4,  # Use beam search for better results\n",
        "    early_stopping=True  # Stop once the most probable sequence is completed\n",
        ")\n",
        "\n",
        "# print(outputs[0][att_mask.sum():])\n",
        "summary = tokenizer.decode(outputs[0][att_mask.sum():], skip_special_tokens=True)\n",
        "target = tokenizer.decode(labels['input_ids'], skip_special_tokens=True)\n",
        "\n",
        "print(\"Summary: \",summary, '\\n',\"Headline: \", target)"
      ],
      "metadata": {
        "id": "E3xZ9iLS1F_K",
        "trusted": true,
        "execution": {
          "iopub.status.busy": "2025-05-10T18:55:02.01387Z",
          "iopub.execute_input": "2025-05-10T18:55:02.014234Z",
          "iopub.status.idle": "2025-05-10T18:55:02.612663Z",
          "shell.execute_reply.started": "2025-05-10T18:55:02.014215Z",
          "shell.execute_reply": "2025-05-10T18:55:02.61195Z"
        }
      },
      "outputs": [],
      "execution_count": null
    },
    {
      "cell_type": "code",
      "source": [
        "model.eval()\n",
        "\n",
        "outputs = model.generate(\n",
        "    input_ids=torch.tensor(tokenized_datasets['test']['input_ids']).to(device),\n",
        "    attention_mask=torch.tensor(tokenized_datasets['test']['attention_mask']).to(device),\n",
        "    max_new_tokens= 15,\n",
        "    min_length=5,  # Minimum length of the summary\n",
        "    length_penalty=3.0,  # Encourage shorter summaries\n",
        "    num_beams=4,  # Use beam search for better results\n",
        "    no_repeat_ngram_size=2, # bigrams can only occur once in sequence\n",
        "    # do_sample=True,\n",
        "    early_stopping=True  # Stop once the most probable sequence is completed\n",
        "\n",
        ")\n",
        "\n",
        "inputs = tokenized_datasets['test']['input_ids']\n",
        "summaries = []\n",
        "targets = []\n",
        "for idx, output in enumerate(outputs):\n",
        "    summaries.append(tokenizer.decode(output[len(inputs[idx]):], skip_special_tokens=True))\n",
        "    targets.append(tokenizer.decode(tokenized_datasets['test']['labels'][idx], skip_special_tokens=True))\n",
        "\n",
        "df = pd.DataFrame({\"Summary\": summaries, \"Headlines\": targets})\n",
        "df.head()"
      ],
      "metadata": {
        "id": "4uj8y2h58h1v",
        "trusted": true,
        "execution": {
          "iopub.status.busy": "2025-05-10T20:24:03.274632Z",
          "iopub.execute_input": "2025-05-10T20:24:03.275343Z",
          "iopub.status.idle": "2025-05-10T20:24:08.567196Z",
          "shell.execute_reply.started": "2025-05-10T20:24:03.275319Z",
          "shell.execute_reply": "2025-05-10T20:24:08.566412Z"
        },
        "scrolled": true
      },
      "outputs": [],
      "execution_count": null
    },
    {
      "cell_type": "code",
      "source": [
        "for i in range(5):\n",
        "    print(\"summary: \", df['Summary'][i])\n",
        "    print(\"headline: \", df['Headlines'][i], \"\\n\")"
      ],
      "metadata": {
        "trusted": true,
        "execution": {
          "iopub.status.busy": "2025-05-10T20:24:17.610115Z",
          "iopub.execute_input": "2025-05-10T20:24:17.610383Z",
          "iopub.status.idle": "2025-05-10T20:24:17.615658Z",
          "shell.execute_reply.started": "2025-05-10T20:24:17.610364Z",
          "shell.execute_reply": "2025-05-10T20:24:17.614935Z"
        },
        "id": "lypsdebncrL5"
      },
      "outputs": [],
      "execution_count": null
    },
    {
      "cell_type": "code",
      "source": [
        "from statistics import mean\n",
        "\n",
        "# Calculate BLEU score\n",
        "bleu = corpus_bleu(summaries, targets).score\n",
        "\n",
        "# Calculate BERTScore\n",
        "bert_score = metric.compute(predictions=summaries, references=targets, model_type='distilbert-base-uncased')  # use distilbert for semantic analysis\n",
        "print(f\"Precision: {mean(bert_score['precision']):.4f} Recall: {mean(bert_score['recall']):.4f} F1: {mean(bert_score['f1']):.4f} bleu: {bleu:.4f}\")"
      ],
      "metadata": {
        "trusted": true,
        "execution": {
          "iopub.status.busy": "2025-05-10T20:24:25.336947Z",
          "iopub.execute_input": "2025-05-10T20:24:25.337815Z",
          "iopub.status.idle": "2025-05-10T20:24:25.504223Z",
          "shell.execute_reply.started": "2025-05-10T20:24:25.33778Z",
          "shell.execute_reply": "2025-05-10T20:24:25.503569Z"
        },
        "id": "vdIYS52ecrL6"
      },
      "outputs": [],
      "execution_count": null
    },
    {
      "cell_type": "markdown",
      "source": [
        "On evaluating the model on the test set, the model got an average bert score of 0.71, indicating that the summary is similar in context to the target headline."
      ],
      "metadata": {
        "id": "JHNqA9uMcrL6"
      }
    },
    {
      "cell_type": "code",
      "source": [],
      "metadata": {
        "trusted": true,
        "id": "YvJlJYMKcrL7"
      },
      "outputs": [],
      "execution_count": null
    }
  ]
}