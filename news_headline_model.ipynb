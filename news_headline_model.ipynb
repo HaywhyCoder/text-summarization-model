{
  "metadata": {
    "kernelspec": {
      "name": "python3",
      "display_name": "Python 3",
      "language": "python"
    },
    "language_info": {
      "name": "python",
      "version": "3.11.11",
      "mimetype": "text/x-python",
      "codemirror_mode": {
        "name": "ipython",
        "version": 3
      },
      "pygments_lexer": "ipython3",
      "nbconvert_exporter": "python",
      "file_extension": ".py"
    },
    "accelerator": "GPU",
    "colab": {
      "gpuType": "T4",
      "provenance": [],
      "include_colab_link": true
    },
    "kaggle": {
      "accelerator": "none",
      "dataSources": [
        {
          "sourceId": 791838,
          "sourceType": "datasetVersion",
          "datasetId": 1895
        }
      ],
      "dockerImageVersionId": 31012,
      "isInternetEnabled": true,
      "language": "python",
      "sourceType": "notebook",
      "isGpuEnabled": false
    }
  },
  "nbformat_minor": 0,
  "nbformat": 4,
  "cells": [
    {
      "cell_type": "markdown",
      "metadata": {
        "id": "view-in-github",
        "colab_type": "text"
      },
      "source": [
        "<a href=\"https://colab.research.google.com/github/HaywhyCoder/text-summarization-model/blob/main/news_headline_model.ipynb\" target=\"_parent\"><img src=\"https://colab.research.google.com/assets/colab-badge.svg\" alt=\"Open In Colab\"/></a>"
      ]
    },
    {
      "cell_type": "markdown",
      "source": [
        "### **News Headline Model**"
      ],
      "metadata": {
        "id": "obFd4M6gtavT"
      }
    },
    {
      "cell_type": "markdown",
      "source": [
        "#### Import Libraries"
      ],
      "metadata": {
        "id": "eQew52XstvBg"
      }
    },
    {
      "cell_type": "code",
      "source": [
        "import pandas as pd\n",
        "from sklearn.model_selection import train_test_split\n",
        "from sklearn.metrics.pairwise import cosine_similarity\n",
        "\n",
        "from datasets import Dataset, DatasetDict\n",
        "from evaluate import load\n",
        "from transformers import GPT2Tokenizer, GPT2LMHeadModel, Trainer, TrainingArguments, DataCollatorForLanguageModeling, pipeline\n",
        "from sacrebleu import corpus_bleu\n",
        "import torch"
      ],
      "metadata": {
        "id": "YXpB_3uTrK1x",
        "trusted": true,
        "execution": {
          "iopub.status.busy": "2025-05-10T18:53:20.644411Z",
          "iopub.execute_input": "2025-05-10T18:53:20.645854Z",
          "iopub.status.idle": "2025-05-10T18:53:20.678135Z",
          "shell.execute_reply.started": "2025-05-10T18:53:20.645815Z",
          "shell.execute_reply": "2025-05-10T18:53:20.677571Z"
        }
      },
      "outputs": [],
      "execution_count": null
    },
    {
      "cell_type": "code",
      "source": [
        "metric = load('bertscore')"
      ],
      "metadata": {
        "id": "Qur_hIJng0QG",
        "trusted": true,
        "execution": {
          "iopub.status.busy": "2025-05-10T18:53:27.300164Z",
          "iopub.execute_input": "2025-05-10T18:53:27.300447Z",
          "iopub.status.idle": "2025-05-10T18:53:28.157804Z",
          "shell.execute_reply.started": "2025-05-10T18:53:27.300423Z",
          "shell.execute_reply": "2025-05-10T18:53:28.157051Z"
        }
      },
      "outputs": [],
      "execution_count": null
    },
    {
      "cell_type": "markdown",
      "source": [
        "#### Load the Dataset"
      ],
      "metadata": {
        "id": "uunYmrMidh0X"
      }
    },
    {
      "cell_type": "code",
      "source": [
        "data = pd.read_csv(\"/kaggle/input/news-summary/news_summary.csv\", encoding='latin-1')\n",
        "data.head()"
      ],
      "metadata": {
        "id": "MobN2fZnvkml",
        "outputId": "e5d208ce-13c2-4e5f-bd85-8b0d53522e56",
        "trusted": true,
        "execution": {
          "iopub.status.busy": "2025-05-10T18:53:39.395566Z",
          "iopub.execute_input": "2025-05-10T18:53:39.396086Z",
          "iopub.status.idle": "2025-05-10T18:53:39.767604Z",
          "shell.execute_reply.started": "2025-05-10T18:53:39.396044Z",
          "shell.execute_reply": "2025-05-10T18:53:39.766992Z"
        }
      },
      "outputs": [
        {
          "execution_count": 5,
          "output_type": "execute_result",
          "data": {
            "text/plain": "               author                  date  \\\n0        Chhavi Tyagi  03 Aug 2017,Thursday   \n1         Daisy Mowke  03 Aug 2017,Thursday   \n2      Arshiya Chopra  03 Aug 2017,Thursday   \n3       Sumedha Sehra  03 Aug 2017,Thursday   \n4  Aarushi Maheshwari  03 Aug 2017,Thursday   \n\n                                           headlines  \\\n0  Daman & Diu revokes mandatory Rakshabandhan in...   \n1  Malaika slams user who trolled her for 'divorc...   \n2  'Virgin' now corrected to 'Unmarried' in IGIMS...   \n3  Aaj aapne pakad liya: LeT man Dujana before be...   \n4  Hotel staff to get training to spot signs of s...   \n\n                                           read_more  \\\n0  http://www.hindustantimes.com/india-news/raksh...   \n1  http://www.hindustantimes.com/bollywood/malaik...   \n2  http://www.hindustantimes.com/patna/bihar-igim...   \n3  http://indiatoday.intoday.in/story/abu-dujana-...   \n4  http://indiatoday.intoday.in/story/sex-traffic...   \n\n                                                text  \\\n0  The Administration of Union Territory Daman an...   \n1  Malaika Arora slammed an Instagram user who tr...   \n2  The Indira Gandhi Institute of Medical Science...   \n3  Lashkar-e-Taiba's Kashmir commander Abu Dujana...   \n4  Hotels in Maharashtra will train their staff t...   \n\n                                               ctext  \n0  The Daman and Diu administration on Wednesday ...  \n1  From her special numbers to TV?appearances, Bo...  \n2  The Indira Gandhi Institute of Medical Science...  \n3  Lashkar-e-Taiba's Kashmir commander Abu Dujana...  \n4  Hotels in Mumbai and other Indian cities are t...  ",
            "text/html": "<div>\n<style scoped>\n    .dataframe tbody tr th:only-of-type {\n        vertical-align: middle;\n    }\n\n    .dataframe tbody tr th {\n        vertical-align: top;\n    }\n\n    .dataframe thead th {\n        text-align: right;\n    }\n</style>\n<table border=\"1\" class=\"dataframe\">\n  <thead>\n    <tr style=\"text-align: right;\">\n      <th></th>\n      <th>author</th>\n      <th>date</th>\n      <th>headlines</th>\n      <th>read_more</th>\n      <th>text</th>\n      <th>ctext</th>\n    </tr>\n  </thead>\n  <tbody>\n    <tr>\n      <th>0</th>\n      <td>Chhavi Tyagi</td>\n      <td>03 Aug 2017,Thursday</td>\n      <td>Daman &amp; Diu revokes mandatory Rakshabandhan in...</td>\n      <td>http://www.hindustantimes.com/india-news/raksh...</td>\n      <td>The Administration of Union Territory Daman an...</td>\n      <td>The Daman and Diu administration on Wednesday ...</td>\n    </tr>\n    <tr>\n      <th>1</th>\n      <td>Daisy Mowke</td>\n      <td>03 Aug 2017,Thursday</td>\n      <td>Malaika slams user who trolled her for 'divorc...</td>\n      <td>http://www.hindustantimes.com/bollywood/malaik...</td>\n      <td>Malaika Arora slammed an Instagram user who tr...</td>\n      <td>From her special numbers to TV?appearances, Bo...</td>\n    </tr>\n    <tr>\n      <th>2</th>\n      <td>Arshiya Chopra</td>\n      <td>03 Aug 2017,Thursday</td>\n      <td>'Virgin' now corrected to 'Unmarried' in IGIMS...</td>\n      <td>http://www.hindustantimes.com/patna/bihar-igim...</td>\n      <td>The Indira Gandhi Institute of Medical Science...</td>\n      <td>The Indira Gandhi Institute of Medical Science...</td>\n    </tr>\n    <tr>\n      <th>3</th>\n      <td>Sumedha Sehra</td>\n      <td>03 Aug 2017,Thursday</td>\n      <td>Aaj aapne pakad liya: LeT man Dujana before be...</td>\n      <td>http://indiatoday.intoday.in/story/abu-dujana-...</td>\n      <td>Lashkar-e-Taiba's Kashmir commander Abu Dujana...</td>\n      <td>Lashkar-e-Taiba's Kashmir commander Abu Dujana...</td>\n    </tr>\n    <tr>\n      <th>4</th>\n      <td>Aarushi Maheshwari</td>\n      <td>03 Aug 2017,Thursday</td>\n      <td>Hotel staff to get training to spot signs of s...</td>\n      <td>http://indiatoday.intoday.in/story/sex-traffic...</td>\n      <td>Hotels in Maharashtra will train their staff t...</td>\n      <td>Hotels in Mumbai and other Indian cities are t...</td>\n    </tr>\n  </tbody>\n</table>\n</div>"
          },
          "metadata": {}
        }
      ],
      "execution_count": null
    },
    {
      "cell_type": "code",
      "source": [
        "data = data[['text', 'headlines']]"
      ],
      "metadata": {
        "id": "T-bduKiJvjp4",
        "trusted": true,
        "execution": {
          "iopub.status.busy": "2025-05-10T18:53:39.837453Z",
          "iopub.execute_input": "2025-05-10T18:53:39.837648Z",
          "iopub.status.idle": "2025-05-10T18:53:39.867007Z",
          "shell.execute_reply.started": "2025-05-10T18:53:39.837627Z",
          "shell.execute_reply": "2025-05-10T18:53:39.866124Z"
        }
      },
      "outputs": [],
      "execution_count": null
    },
    {
      "cell_type": "code",
      "source": [
        "data.head()"
      ],
      "metadata": {
        "id": "mUeGuGEsyRdI",
        "outputId": "5ea456a3-e98c-4bbc-8a2a-9861593a5971",
        "trusted": true,
        "execution": {
          "iopub.status.busy": "2025-05-10T18:53:39.867836Z",
          "iopub.execute_input": "2025-05-10T18:53:39.868253Z",
          "iopub.status.idle": "2025-05-10T18:53:39.895202Z",
          "shell.execute_reply.started": "2025-05-10T18:53:39.868232Z",
          "shell.execute_reply": "2025-05-10T18:53:39.894435Z"
        }
      },
      "outputs": [
        {
          "execution_count": 11,
          "output_type": "execute_result",
          "data": {
            "text/plain": "                                                text  \\\n0  The Administration of Union Territory Daman an...   \n1  Malaika Arora slammed an Instagram user who tr...   \n2  The Indira Gandhi Institute of Medical Science...   \n3  Lashkar-e-Taiba's Kashmir commander Abu Dujana...   \n4  Hotels in Maharashtra will train their staff t...   \n\n                                           headlines  \n0  Daman & Diu revokes mandatory Rakshabandhan in...  \n1  Malaika slams user who trolled her for 'divorc...  \n2  'Virgin' now corrected to 'Unmarried' in IGIMS...  \n3  Aaj aapne pakad liya: LeT man Dujana before be...  \n4  Hotel staff to get training to spot signs of s...  ",
            "text/html": "<div>\n<style scoped>\n    .dataframe tbody tr th:only-of-type {\n        vertical-align: middle;\n    }\n\n    .dataframe tbody tr th {\n        vertical-align: top;\n    }\n\n    .dataframe thead th {\n        text-align: right;\n    }\n</style>\n<table border=\"1\" class=\"dataframe\">\n  <thead>\n    <tr style=\"text-align: right;\">\n      <th></th>\n      <th>text</th>\n      <th>headlines</th>\n    </tr>\n  </thead>\n  <tbody>\n    <tr>\n      <th>0</th>\n      <td>The Administration of Union Territory Daman an...</td>\n      <td>Daman &amp; Diu revokes mandatory Rakshabandhan in...</td>\n    </tr>\n    <tr>\n      <th>1</th>\n      <td>Malaika Arora slammed an Instagram user who tr...</td>\n      <td>Malaika slams user who trolled her for 'divorc...</td>\n    </tr>\n    <tr>\n      <th>2</th>\n      <td>The Indira Gandhi Institute of Medical Science...</td>\n      <td>'Virgin' now corrected to 'Unmarried' in IGIMS...</td>\n    </tr>\n    <tr>\n      <th>3</th>\n      <td>Lashkar-e-Taiba's Kashmir commander Abu Dujana...</td>\n      <td>Aaj aapne pakad liya: LeT man Dujana before be...</td>\n    </tr>\n    <tr>\n      <th>4</th>\n      <td>Hotels in Maharashtra will train their staff t...</td>\n      <td>Hotel staff to get training to spot signs of s...</td>\n    </tr>\n  </tbody>\n</table>\n</div>"
          },
          "metadata": {}
        }
      ],
      "execution_count": null
    },
    {
      "cell_type": "code",
      "source": [
        "data['text'] = data['text'].map(lambda x: x + \"\\nTL;DR:\")\n",
        "data['text'][5]"
      ],
      "metadata": {
        "trusted": true,
        "execution": {
          "iopub.status.busy": "2025-05-10T18:53:39.895998Z",
          "iopub.execute_input": "2025-05-10T18:53:39.896354Z",
          "iopub.status.idle": "2025-05-10T18:53:39.921509Z",
          "shell.execute_reply.started": "2025-05-10T18:53:39.896327Z",
          "shell.execute_reply": "2025-05-10T18:53:39.920806Z"
        },
        "id": "XE51e7z2dh0b",
        "outputId": "b3c1be60-e68f-472e-f644-e50fed3dc56d"
      },
      "outputs": [
        {
          "execution_count": 12,
          "output_type": "execute_result",
          "data": {
            "text/plain": "'A 32-year-old man on Wednesday was found hanging inside the washroom of a Delhi police station after he was called for interrogation. His family alleged that he could have been emotionally and physically tortured. Police said the man was named as a suspect in the kidnapping case of a married woman with whom he had been in a relationship earlier.\\nTL;DR:'"
          },
          "metadata": {}
        }
      ],
      "execution_count": null
    },
    {
      "cell_type": "markdown",
      "source": [
        "### Prepare Dataset"
      ],
      "metadata": {
        "id": "wva3ZYh6zLYL"
      }
    },
    {
      "cell_type": "code",
      "source": [
        "sample_data = data.sample(n=300, random_state=16, ignore_index=True)\n",
        "train, test = train_test_split(sample_data, test_size=.2, random_state=42)\n",
        "train, eval = train_test_split(train, test_size=.2, random_state=42)\n",
        "\n",
        "datasets = DatasetDict({\n",
        "    'train': Dataset.from_pandas(train, preserve_index=False),\n",
        "    'eval': Dataset.from_pandas(eval, preserve_index=False),\n",
        "    'test': Dataset.from_pandas(test, preserve_index=False)\n",
        "})\n",
        "datasets"
      ],
      "metadata": {
        "id": "h2lscc3iyXDz",
        "outputId": "3b1f3080-3788-48a3-d51a-1c44d4b18c83",
        "trusted": true,
        "execution": {
          "iopub.status.busy": "2025-05-10T18:53:39.922239Z",
          "iopub.execute_input": "2025-05-10T18:53:39.922433Z",
          "iopub.status.idle": "2025-05-10T18:53:39.961804Z",
          "shell.execute_reply.started": "2025-05-10T18:53:39.922418Z",
          "shell.execute_reply": "2025-05-10T18:53:39.961165Z"
        }
      },
      "outputs": [
        {
          "execution_count": 13,
          "output_type": "execute_result",
          "data": {
            "text/plain": "DatasetDict({\n    train: Dataset({\n        features: ['text', 'headlines'],\n        num_rows: 192\n    })\n    eval: Dataset({\n        features: ['text', 'headlines'],\n        num_rows: 48\n    })\n    test: Dataset({\n        features: ['text', 'headlines'],\n        num_rows: 60\n    })\n})"
          },
          "metadata": {}
        }
      ],
      "execution_count": null
    },
    {
      "cell_type": "code",
      "source": [
        "tokenizer = GPT2Tokenizer.from_pretrained(\"gpt2\")\n",
        "model = GPT2LMHeadModel.from_pretrained(\"gpt2\")"
      ],
      "metadata": {
        "id": "VvxpwuhzzaLt",
        "trusted": true,
        "execution": {
          "iopub.status.busy": "2025-05-10T18:53:39.989046Z",
          "iopub.execute_input": "2025-05-10T18:53:39.989337Z",
          "iopub.status.idle": "2025-05-10T18:53:44.213143Z",
          "shell.execute_reply.started": "2025-05-10T18:53:39.989314Z",
          "shell.execute_reply": "2025-05-10T18:53:44.212350Z"
        }
      },
      "outputs": [],
      "execution_count": null
    },
    {
      "cell_type": "code",
      "source": [
        "tokenizer.pad_token = tokenizer.eos_token\n",
        "model.config.pad_token_id = tokenizer.pad_token_id"
      ],
      "metadata": {
        "id": "--dPliTa55rW",
        "trusted": true,
        "execution": {
          "iopub.status.busy": "2025-05-10T18:53:44.214346Z",
          "iopub.execute_input": "2025-05-10T18:53:44.214601Z",
          "iopub.status.idle": "2025-05-10T18:53:44.218422Z",
          "shell.execute_reply.started": "2025-05-10T18:53:44.214577Z",
          "shell.execute_reply": "2025-05-10T18:53:44.217816Z"
        }
      },
      "outputs": [],
      "execution_count": null
    },
    {
      "cell_type": "code",
      "source": [
        "def preprocess_function(examples):\n",
        "  inputs = [text for text in examples['text']]\n",
        "  targets = [summary for summary in examples['headlines']]\n",
        "\n",
        "  model_inputs = tokenizer(inputs, max_length=128, truncation=True, padding='max_length', return_tensors='pt')\n",
        "  labels = tokenizer(text_target=targets, max_length=32, truncation=True, padding='max_length', return_tensors='pt')\n",
        "\n",
        "  model_inputs['labels'] = labels['input_ids']\n",
        "  return model_inputs\n",
        "\n",
        "tokenized_datasets = datasets.map(preprocess_function, batched=True, remove_columns=datasets['train'].column_names)"
      ],
      "metadata": {
        "id": "6O8_j90j6OJN",
        "trusted": true,
        "execution": {
          "iopub.status.busy": "2025-05-10T18:53:44.219172Z",
          "iopub.execute_input": "2025-05-10T18:53:44.219394Z",
          "iopub.status.idle": "2025-05-10T18:53:46.865907Z",
          "shell.execute_reply.started": "2025-05-10T18:53:44.219376Z",
          "shell.execute_reply": "2025-05-10T18:53:46.865206Z"
        }
      },
      "outputs": [],
      "execution_count": null
    },
    {
      "cell_type": "code",
      "source": [
        "data_collator = DataCollatorForLanguageModeling(tokenizer=tokenizer, mlm=False)"
      ],
      "metadata": {
        "id": "GHFkvXcZ9wGl",
        "trusted": true,
        "execution": {
          "iopub.status.busy": "2025-05-10T18:53:46.952143Z",
          "iopub.execute_input": "2025-05-10T18:53:46.952356Z",
          "iopub.status.idle": "2025-05-10T18:53:46.968659Z",
          "shell.execute_reply.started": "2025-05-10T18:53:46.952334Z",
          "shell.execute_reply": "2025-05-10T18:53:46.968165Z"
        }
      },
      "outputs": [],
      "execution_count": null
    },
    {
      "cell_type": "code",
      "source": [
        "training_args = TrainingArguments(\n",
        "    output_dir='./results',\n",
        "    eval_strategy='epoch',\n",
        "    learning_rate=5e-5,\n",
        "    per_device_train_batch_size=2,\n",
        "    per_device_eval_batch_size=2,\n",
        "    num_train_epochs=10,\n",
        "    weight_decay=.01,\n",
        "    save_total_limit=1,\n",
        "    logging_dir='./logs',\n",
        "    logging_steps=10,\n",
        "    report_to='none'\n",
        ")"
      ],
      "metadata": {
        "id": "mmzYNOcbAMdu",
        "trusted": true,
        "execution": {
          "iopub.status.busy": "2025-05-10T18:53:46.969406Z",
          "iopub.execute_input": "2025-05-10T18:53:46.969619Z",
          "iopub.status.idle": "2025-05-10T18:53:47.015522Z",
          "shell.execute_reply.started": "2025-05-10T18:53:46.969598Z",
          "shell.execute_reply": "2025-05-10T18:53:47.015013Z"
        }
      },
      "outputs": [],
      "execution_count": null
    },
    {
      "cell_type": "code",
      "source": [
        "trainer = Trainer(\n",
        "    model=model,\n",
        "    args=training_args,\n",
        "    train_dataset=tokenized_datasets['train'],\n",
        "    eval_dataset=tokenized_datasets['eval'],\n",
        "    tokenizer=tokenizer,\n",
        "    data_collator=data_collator,\n",
        ")\n",
        "\n",
        "trainer.train()"
      ],
      "metadata": {
        "id": "dBcOl9lVAN0C",
        "outputId": "081798b8-c88d-4c18-a3e8-283166f9955a",
        "trusted": true,
        "execution": {
          "iopub.status.busy": "2025-05-10T18:53:47.016256Z",
          "iopub.execute_input": "2025-05-10T18:53:47.016494Z",
          "iopub.status.idle": "2025-05-10T18:55:02.013215Z",
          "shell.execute_reply.started": "2025-05-10T18:53:47.016473Z",
          "shell.execute_reply": "2025-05-10T18:55:02.012633Z"
        }
      },
      "outputs": [
        {
          "name": "stderr",
          "text": "/tmp/ipykernel_31/1094921805.py:1: FutureWarning: `tokenizer` is deprecated and will be removed in version 5.0.0 for `Trainer.__init__`. Use `processing_class` instead.\n  trainer = Trainer(\n`loss_type=None` was set in the config but it is unrecognised.Using the default loss: `ForCausalLMLoss`.\n",
          "output_type": "stream"
        },
        {
          "output_type": "display_data",
          "data": {
            "text/plain": "<IPython.core.display.HTML object>",
            "text/html": "\n    <div>\n      \n      <progress value='480' max='480' style='width:300px; height:20px; vertical-align: middle;'></progress>\n      [480/480 01:11, Epoch 10/10]\n    </div>\n    <table border=\"1\" class=\"dataframe\">\n  <thead>\n <tr style=\"text-align: left;\">\n      <th>Epoch</th>\n      <th>Training Loss</th>\n      <th>Validation Loss</th>\n    </tr>\n  </thead>\n  <tbody>\n    <tr>\n      <td>1</td>\n      <td>1.560600</td>\n      <td>3.098544</td>\n    </tr>\n    <tr>\n      <td>2</td>\n      <td>1.566900</td>\n      <td>3.091365</td>\n    </tr>\n    <tr>\n      <td>3</td>\n      <td>1.412200</td>\n      <td>3.103242</td>\n    </tr>\n    <tr>\n      <td>4</td>\n      <td>1.240400</td>\n      <td>3.135389</td>\n    </tr>\n    <tr>\n      <td>5</td>\n      <td>1.210600</td>\n      <td>3.174445</td>\n    </tr>\n    <tr>\n      <td>6</td>\n      <td>1.065000</td>\n      <td>3.199709</td>\n    </tr>\n    <tr>\n      <td>7</td>\n      <td>0.989600</td>\n      <td>3.239661</td>\n    </tr>\n    <tr>\n      <td>8</td>\n      <td>1.038400</td>\n      <td>3.251663</td>\n    </tr>\n    <tr>\n      <td>9</td>\n      <td>1.033100</td>\n      <td>3.268338</td>\n    </tr>\n    <tr>\n      <td>10</td>\n      <td>1.052000</td>\n      <td>3.278509</td>\n    </tr>\n  </tbody>\n</table><p>"
          },
          "metadata": {}
        },
        {
          "name": "stderr",
          "text": "/usr/local/lib/python3.11/dist-packages/torch/nn/parallel/_functions.py:71: UserWarning: Was asked to gather along dimension 0, but all input tensors were scalars; will instead unsqueeze and return a vector.\n  warnings.warn(\n/usr/local/lib/python3.11/dist-packages/torch/nn/parallel/_functions.py:71: UserWarning: Was asked to gather along dimension 0, but all input tensors were scalars; will instead unsqueeze and return a vector.\n  warnings.warn(\n",
          "output_type": "stream"
        },
        {
          "execution_count": 26,
          "output_type": "execute_result",
          "data": {
            "text/plain": "TrainOutput(global_step=480, training_loss=1.2203150729338328, metrics={'train_runtime': 74.191, 'train_samples_per_second': 25.879, 'train_steps_per_second': 6.47, 'total_flos': 125420175360000.0, 'train_loss': 1.2203150729338328, 'epoch': 10.0})"
          },
          "metadata": {}
        }
      ],
      "execution_count": null
    },
    {
      "cell_type": "code",
      "source": [
        "sample = datasets['test'][10]\n",
        "\n",
        "# Detect the device (GPU or CPU)\n",
        "device = torch.device(\"cuda\" if torch.cuda.is_available() else \"cpu\")\n",
        "\n",
        "# Move the model to the detected device\n",
        "model = model.to(device)\n",
        "\n",
        "# Tokenize the input text and move tensors to the same device\n",
        "inputs = tokenizer(\n",
        "    sample['text'],\n",
        "    return_tensors=\"pt\",\n",
        "    max_length=128,\n",
        "    truncation=True,\n",
        "    padding=True  # Ensures padding is applied\n",
        ").to(device)\n",
        "\n",
        "labels = tokenizer(sample['headlines'], max_length=32, truncation=True, padding=True).to(device)\n",
        "\n",
        "\n",
        "input_ids = inputs['input_ids']\n",
        "att_mask = inputs['attention_mask']\n",
        "\n",
        "model.eval()\n",
        "outputs = model.generate(\n",
        "    input_ids=input_ids,\n",
        "    attention_mask=att_mask,\n",
        "    max_new_tokens= 15,\n",
        "    min_length=5,  # Minimum length of the summary\n",
        "    length_penalty=-3.0,  # Encourage shorter summaries\n",
        "    num_beams=4,  # Use beam search for better results\n",
        "    early_stopping=True  # Stop once the most probable sequence is completed\n",
        ")\n",
        "\n",
        "# print(outputs[0][att_mask.sum():])\n",
        "summary = tokenizer.decode(outputs[0][att_mask.sum():], skip_special_tokens=True)\n",
        "target = tokenizer.decode(labels['input_ids'], skip_special_tokens=True)\n",
        "\n",
        "print(\"Summary: \",summary, '\\n',\"Headline: \", target)"
      ],
      "metadata": {
        "id": "E3xZ9iLS1F_K",
        "trusted": true,
        "execution": {
          "iopub.status.busy": "2025-05-10T18:55:02.013870Z",
          "iopub.execute_input": "2025-05-10T18:55:02.014234Z",
          "iopub.status.idle": "2025-05-10T18:55:02.612663Z",
          "shell.execute_reply.started": "2025-05-10T18:55:02.014215Z",
          "shell.execute_reply": "2025-05-10T18:55:02.611950Z"
        },
        "outputId": "69864cf2-e7f1-4244-a672-5641eca4c094"
      },
      "outputs": [
        {
          "name": "stderr",
          "text": "Setting `pad_token_id` to `eos_token_id`:50256 for open-end generation.\n",
          "output_type": "stream"
        },
        {
          "name": "stdout",
          "text": "Summary:   A man was lynched by a mob outside Jamia Masjid in \n Headline:  Police officer lynched in Srinagar outside a mosque\n",
          "output_type": "stream"
        }
      ],
      "execution_count": null
    },
    {
      "cell_type": "code",
      "source": [
        "model.eval()\n",
        "\n",
        "outputs = model.generate(\n",
        "    input_ids=torch.tensor(tokenized_datasets['test']['input_ids']).to(device),\n",
        "    attention_mask=torch.tensor(tokenized_datasets['test']['attention_mask']).to(device),\n",
        "    max_new_tokens= 15,\n",
        "    min_length=5,  # Minimum length of the summary\n",
        "    length_penalty=3.0,  # Encourage shorter summaries\n",
        "    num_beams=4,  # Use beam search for better results\n",
        "    no_repeat_ngram_size=2, # bigrams can only occur once in sequence\n",
        "    # do_sample=True,\n",
        "    early_stopping=True  # Stop once the most probable sequence is completed\n",
        "\n",
        ")\n",
        "\n",
        "inputs = tokenized_datasets['test']['input_ids']\n",
        "summaries = []\n",
        "targets = []\n",
        "for idx, output in enumerate(outputs):\n",
        "    summaries.append(tokenizer.decode(output[len(inputs[idx]):], skip_special_tokens=True))\n",
        "    targets.append(tokenizer.decode(tokenized_datasets['test']['labels'][idx], skip_special_tokens=True))\n",
        "\n",
        "df = pd.DataFrame({\"Summary\": summaries, \"Headlines\": targets})\n",
        "df.head()"
      ],
      "metadata": {
        "id": "4uj8y2h58h1v",
        "trusted": true,
        "execution": {
          "iopub.status.busy": "2025-05-10T20:24:03.274632Z",
          "iopub.execute_input": "2025-05-10T20:24:03.275343Z",
          "iopub.status.idle": "2025-05-10T20:24:08.567196Z",
          "shell.execute_reply.started": "2025-05-10T20:24:03.275319Z",
          "shell.execute_reply": "2025-05-10T20:24:08.566412Z"
        },
        "scrolled": true,
        "outputId": "ca029e07-5bc3-4810-995d-9c05815b503d"
      },
      "outputs": [
        {
          "name": "stderr",
          "text": "Setting `pad_token_id` to `eos_token_id`:50256 for open-end generation.\nA decoder-only architecture is being used, but right-padding was detected! For correct generation results, please set `padding_side='left'` when initializing the tokenizer.\n",
          "output_type": "stream"
        },
        {
          "execution_count": 80,
          "output_type": "execute_result",
          "data": {
            "text/plain": "                                             Summary  \\\n0  The accused received an e-mail from an unident...   \n1  The central government is refusing to reveal t...   \n2  Javier Hernandez has been arrested for attacki...   \n3  Jammu & Kashmir Congress wants CBI to probe BJ...   \n4  The airline is looking to hire up to 50,000 pe...   \n\n                                           Headlines  \n0  Man arrested for receiving 'anti-national' Wha...  \n1  Disclose Godse's statement in Gandhi murder tr...  \n2  Atlético Madrid defender arrested on assault s...  \n3  Cong complains to EC against BJP on Sharmila's...  \n4  Air India to serve wine, retrain chefs for 'In...  ",
            "text/html": "<div>\n<style scoped>\n    .dataframe tbody tr th:only-of-type {\n        vertical-align: middle;\n    }\n\n    .dataframe tbody tr th {\n        vertical-align: top;\n    }\n\n    .dataframe thead th {\n        text-align: right;\n    }\n</style>\n<table border=\"1\" class=\"dataframe\">\n  <thead>\n    <tr style=\"text-align: right;\">\n      <th></th>\n      <th>Summary</th>\n      <th>Headlines</th>\n    </tr>\n  </thead>\n  <tbody>\n    <tr>\n      <th>0</th>\n      <td>The accused received an e-mail from an unident...</td>\n      <td>Man arrested for receiving 'anti-national' Wha...</td>\n    </tr>\n    <tr>\n      <th>1</th>\n      <td>The central government is refusing to reveal t...</td>\n      <td>Disclose Godse's statement in Gandhi murder tr...</td>\n    </tr>\n    <tr>\n      <th>2</th>\n      <td>Javier Hernandez has been arrested for attacki...</td>\n      <td>Atlético Madrid defender arrested on assault s...</td>\n    </tr>\n    <tr>\n      <th>3</th>\n      <td>Jammu &amp; Kashmir Congress wants CBI to probe BJ...</td>\n      <td>Cong complains to EC against BJP on Sharmila's...</td>\n    </tr>\n    <tr>\n      <th>4</th>\n      <td>The airline is looking to hire up to 50,000 pe...</td>\n      <td>Air India to serve wine, retrain chefs for 'In...</td>\n    </tr>\n  </tbody>\n</table>\n</div>"
          },
          "metadata": {}
        }
      ],
      "execution_count": null
    },
    {
      "cell_type": "code",
      "source": [
        "for i in range(5):\n",
        "    print(\"summary: \", df['Summary'][i])\n",
        "    print(\"headline: \", df['Headlines'][i], \"\\n\")"
      ],
      "metadata": {
        "trusted": true,
        "execution": {
          "iopub.status.busy": "2025-05-10T20:24:17.610115Z",
          "iopub.execute_input": "2025-05-10T20:24:17.610383Z",
          "iopub.status.idle": "2025-05-10T20:24:17.615658Z",
          "shell.execute_reply.started": "2025-05-10T20:24:17.610364Z",
          "shell.execute_reply": "2025-05-10T20:24:17.614935Z"
        },
        "id": "7G6FmPNHdh0h",
        "outputId": "9e1f5395-ee45-4a14-ea1b-ee8643f12891"
      },
      "outputs": [
        {
          "name": "stdout",
          "text": "summary:  The accused received an e-mail from an unidentified person stating that he was\nheadline:  Man arrested for receiving 'anti-national' WhatsApp message \n\nsummary:  The central government is refusing to reveal the identity of the accused. \n\nheadline:  Disclose Godse's statement in Gandhi murder trial: CIC \n\nsummary:  Javier Hernandez has been arrested for attacking girlfriend of ex-MLS player\nheadline:  Atlético Madrid defender arrested on assault suspicion \n\nsummary:  Jammu & Kashmir Congress wants CBI to probe BJP's offer of ?37\nheadline:  Cong complains to EC against BJP on Sharmila's claim \n\nsummary:  The airline is looking to hire up to 50,000 people by 2020.\nheadline:  Air India to serve wine, retrain chefs for 'Indian touch' \n\n",
          "output_type": "stream"
        }
      ],
      "execution_count": null
    },
    {
      "cell_type": "code",
      "source": [
        "from statistics import mean\n",
        "\n",
        "# Calculate BLEU score\n",
        "bleu = corpus_bleu(summaries, targets).score\n",
        "\n",
        "# Calculate BERTScore\n",
        "bert_score = metric.compute(predictions=summaries, references=targets, model_type='distilbert-base-uncased')  # use distilbert for semantic analysis\n",
        "print(f\"Precision: {mean(bert_score['precision']):.4f} Recall: {mean(bert_score['recall']):.4f} F1: {mean(bert_score['f1']):.4f} bleu: {bleu:.4f}\")"
      ],
      "metadata": {
        "trusted": true,
        "execution": {
          "iopub.status.busy": "2025-05-10T20:24:25.336947Z",
          "iopub.execute_input": "2025-05-10T20:24:25.337815Z",
          "iopub.status.idle": "2025-05-10T20:24:25.504223Z",
          "shell.execute_reply.started": "2025-05-10T20:24:25.337780Z",
          "shell.execute_reply": "2025-05-10T20:24:25.503569Z"
        },
        "id": "_bgw-3T7dh0i",
        "outputId": "117060a5-2f89-4acb-edc7-cc8901a35e5b"
      },
      "outputs": [
        {
          "name": "stdout",
          "text": "Precision: 0.7092 Recall: 0.7058 F1: 0.7073 bleu: 0.1471\n",
          "output_type": "stream"
        }
      ],
      "execution_count": null
    },
    {
      "cell_type": "markdown",
      "source": [
        "On evaluating the model on the test set, the model got an average bert score of 0.71, indicating that the summary is similar in context to the target headline."
      ],
      "metadata": {
        "id": "4GJyXsszdh0i"
      }
    },
    {
      "cell_type": "code",
      "source": [],
      "metadata": {
        "trusted": true,
        "id": "SZcBAigjdh0j"
      },
      "outputs": [],
      "execution_count": null
    }
  ]
}